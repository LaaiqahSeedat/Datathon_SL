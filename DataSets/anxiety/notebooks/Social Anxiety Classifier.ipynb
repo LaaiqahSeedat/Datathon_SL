{
 "cells": [
  {
   "cell_type": "code",
   "execution_count": 2,
   "id": "56e89305",
   "metadata": {},
   "outputs": [],
   "source": [
    "import pandas as pd\n",
    "import numpy as np\n",
    "import matplotlib.pyplot as plt"
   ]
  },
  {
   "cell_type": "code",
   "execution_count": 3,
   "id": "12ba1125",
   "metadata": {},
   "outputs": [
    {
     "data": {
      "text/html": [
       "<div>\n",
       "<style scoped>\n",
       "    .dataframe tbody tr th:only-of-type {\n",
       "        vertical-align: middle;\n",
       "    }\n",
       "\n",
       "    .dataframe tbody tr th {\n",
       "        vertical-align: top;\n",
       "    }\n",
       "\n",
       "    .dataframe thead th {\n",
       "        text-align: right;\n",
       "    }\n",
       "</style>\n",
       "<table border=\"1\" class=\"dataframe\">\n",
       "  <thead>\n",
       "    <tr style=\"text-align: right;\">\n",
       "      <th></th>\n",
       "      <th>id</th>\n",
       "      <th>Age</th>\n",
       "      <th>EducationLevel</th>\n",
       "      <th>Gender</th>\n",
       "      <th>HasFamilyHistory</th>\n",
       "      <th>Occupation</th>\n",
       "      <th>ATF</th>\n",
       "      <th>EAF</th>\n",
       "      <th>TKF</th>\n",
       "      <th>CMT</th>\n",
       "      <th>...</th>\n",
       "      <th>CP</th>\n",
       "      <th>NS</th>\n",
       "      <th>DZ</th>\n",
       "      <th>UR</th>\n",
       "      <th>UB</th>\n",
       "      <th>MD</th>\n",
       "      <th>TG</th>\n",
       "      <th>hasSAD</th>\n",
       "      <th>SPIN</th>\n",
       "      <th>LSAS</th>\n",
       "    </tr>\n",
       "  </thead>\n",
       "  <tbody>\n",
       "    <tr>\n",
       "      <th>0</th>\n",
       "      <td>1</td>\n",
       "      <td>27</td>\n",
       "      <td>4</td>\n",
       "      <td>1</td>\n",
       "      <td>0</td>\n",
       "      <td>3</td>\n",
       "      <td>4</td>\n",
       "      <td>2</td>\n",
       "      <td>6</td>\n",
       "      <td>2</td>\n",
       "      <td>...</td>\n",
       "      <td>0</td>\n",
       "      <td>0</td>\n",
       "      <td>0</td>\n",
       "      <td>0</td>\n",
       "      <td>1</td>\n",
       "      <td>0</td>\n",
       "      <td>0</td>\n",
       "      <td>1</td>\n",
       "      <td>23</td>\n",
       "      <td>39.0</td>\n",
       "    </tr>\n",
       "    <tr>\n",
       "      <th>1</th>\n",
       "      <td>5</td>\n",
       "      <td>24</td>\n",
       "      <td>4</td>\n",
       "      <td>1</td>\n",
       "      <td>0</td>\n",
       "      <td>3</td>\n",
       "      <td>3</td>\n",
       "      <td>0</td>\n",
       "      <td>3</td>\n",
       "      <td>1</td>\n",
       "      <td>...</td>\n",
       "      <td>0</td>\n",
       "      <td>0</td>\n",
       "      <td>0</td>\n",
       "      <td>0</td>\n",
       "      <td>0</td>\n",
       "      <td>0</td>\n",
       "      <td>0</td>\n",
       "      <td>0</td>\n",
       "      <td>20</td>\n",
       "      <td>43.0</td>\n",
       "    </tr>\n",
       "    <tr>\n",
       "      <th>2</th>\n",
       "      <td>7</td>\n",
       "      <td>32</td>\n",
       "      <td>5</td>\n",
       "      <td>0</td>\n",
       "      <td>1</td>\n",
       "      <td>1</td>\n",
       "      <td>4</td>\n",
       "      <td>1</td>\n",
       "      <td>7</td>\n",
       "      <td>0</td>\n",
       "      <td>...</td>\n",
       "      <td>0</td>\n",
       "      <td>1</td>\n",
       "      <td>0</td>\n",
       "      <td>0</td>\n",
       "      <td>0</td>\n",
       "      <td>0</td>\n",
       "      <td>0</td>\n",
       "      <td>1</td>\n",
       "      <td>33</td>\n",
       "      <td>50.0</td>\n",
       "    </tr>\n",
       "    <tr>\n",
       "      <th>3</th>\n",
       "      <td>8</td>\n",
       "      <td>37</td>\n",
       "      <td>5</td>\n",
       "      <td>1</td>\n",
       "      <td>1</td>\n",
       "      <td>3</td>\n",
       "      <td>4</td>\n",
       "      <td>0</td>\n",
       "      <td>6</td>\n",
       "      <td>1</td>\n",
       "      <td>...</td>\n",
       "      <td>0</td>\n",
       "      <td>0</td>\n",
       "      <td>0</td>\n",
       "      <td>0</td>\n",
       "      <td>0</td>\n",
       "      <td>0</td>\n",
       "      <td>0</td>\n",
       "      <td>1</td>\n",
       "      <td>30</td>\n",
       "      <td>44.0</td>\n",
       "    </tr>\n",
       "    <tr>\n",
       "      <th>4</th>\n",
       "      <td>9</td>\n",
       "      <td>33</td>\n",
       "      <td>5</td>\n",
       "      <td>1</td>\n",
       "      <td>0</td>\n",
       "      <td>2</td>\n",
       "      <td>5</td>\n",
       "      <td>1</td>\n",
       "      <td>5</td>\n",
       "      <td>1</td>\n",
       "      <td>...</td>\n",
       "      <td>0</td>\n",
       "      <td>0</td>\n",
       "      <td>0</td>\n",
       "      <td>0</td>\n",
       "      <td>0</td>\n",
       "      <td>0</td>\n",
       "      <td>0</td>\n",
       "      <td>0</td>\n",
       "      <td>16</td>\n",
       "      <td>NaN</td>\n",
       "    </tr>\n",
       "  </tbody>\n",
       "</table>\n",
       "<p>5 rows × 30 columns</p>\n",
       "</div>"
      ],
      "text/plain": [
       "   id  Age  EducationLevel  Gender  HasFamilyHistory  Occupation  ATF  EAF  \\\n",
       "0   1   27               4       1                 0           3    4    2   \n",
       "1   5   24               4       1                 0           3    3    0   \n",
       "2   7   32               5       0                 1           1    4    1   \n",
       "3   8   37               5       1                 1           3    4    0   \n",
       "4   9   33               5       1                 0           2    5    1   \n",
       "\n",
       "   TKF  CMT  ...  CP  NS  DZ  UR  UB  MD  TG  hasSAD  SPIN  LSAS  \n",
       "0    6    2  ...   0   0   0   0   1   0   0       1    23  39.0  \n",
       "1    3    1  ...   0   0   0   0   0   0   0       0    20  43.0  \n",
       "2    7    0  ...   0   1   0   0   0   0   0       1    33  50.0  \n",
       "3    6    1  ...   0   0   0   0   0   0   0       1    30  44.0  \n",
       "4    5    1  ...   0   0   0   0   0   0   0       0    16   NaN  \n",
       "\n",
       "[5 rows x 30 columns]"
      ]
     },
     "execution_count": 3,
     "metadata": {},
     "output_type": "execute_result"
    }
   ],
   "source": [
    "df1 = pd.read_csv(\"final_data.csv\")   \n",
    "df1.head()"
   ]
  },
  {
   "cell_type": "code",
   "execution_count": 4,
   "id": "35d73046",
   "metadata": {},
   "outputs": [
    {
     "data": {
      "text/plain": [
       "(214, 30)"
      ]
     },
     "execution_count": 4,
     "metadata": {},
     "output_type": "execute_result"
    }
   ],
   "source": [
    "df1.shape"
   ]
  },
  {
   "cell_type": "code",
   "execution_count": 5,
   "id": "c5d8a45e",
   "metadata": {},
   "outputs": [
    {
     "data": {
      "text/plain": [
       "Index(['id', 'Age', 'EducationLevel', 'Gender', 'HasFamilyHistory',\n",
       "       'Occupation', 'ATF', 'EAF', 'TKF', 'CMT', 'DEF', 'SMF', 'ERF', 'DAF',\n",
       "       'HR', 'SW', 'TR', 'DR', 'BR', 'CK', 'CP', 'NS', 'DZ', 'UR', 'UB', 'MD',\n",
       "       'TG', 'hasSAD', 'SPIN', 'LSAS'],\n",
       "      dtype='object')"
      ]
     },
     "execution_count": 5,
     "metadata": {},
     "output_type": "execute_result"
    }
   ],
   "source": [
    "df1.columns"
   ]
  },
  {
   "cell_type": "code",
   "execution_count": 6,
   "id": "5c1855d1",
   "metadata": {},
   "outputs": [
    {
     "data": {
      "text/html": [
       "<div>\n",
       "<style scoped>\n",
       "    .dataframe tbody tr th:only-of-type {\n",
       "        vertical-align: middle;\n",
       "    }\n",
       "\n",
       "    .dataframe tbody tr th {\n",
       "        vertical-align: top;\n",
       "    }\n",
       "\n",
       "    .dataframe thead th {\n",
       "        text-align: right;\n",
       "    }\n",
       "</style>\n",
       "<table border=\"1\" class=\"dataframe\">\n",
       "  <thead>\n",
       "    <tr style=\"text-align: right;\">\n",
       "      <th></th>\n",
       "      <th>Age</th>\n",
       "      <th>EducationLevel</th>\n",
       "      <th>Gender</th>\n",
       "      <th>HasFamilyHistory</th>\n",
       "      <th>Occupation</th>\n",
       "      <th>ATF</th>\n",
       "      <th>EAF</th>\n",
       "      <th>TKF</th>\n",
       "      <th>CMT</th>\n",
       "      <th>DEF</th>\n",
       "      <th>...</th>\n",
       "      <th>DR</th>\n",
       "      <th>BR</th>\n",
       "      <th>CK</th>\n",
       "      <th>CP</th>\n",
       "      <th>NS</th>\n",
       "      <th>DZ</th>\n",
       "      <th>UR</th>\n",
       "      <th>UB</th>\n",
       "      <th>MD</th>\n",
       "      <th>TG</th>\n",
       "    </tr>\n",
       "  </thead>\n",
       "  <tbody>\n",
       "    <tr>\n",
       "      <th>0</th>\n",
       "      <td>27</td>\n",
       "      <td>4</td>\n",
       "      <td>1</td>\n",
       "      <td>0</td>\n",
       "      <td>3</td>\n",
       "      <td>4</td>\n",
       "      <td>2</td>\n",
       "      <td>6</td>\n",
       "      <td>2</td>\n",
       "      <td>0</td>\n",
       "      <td>...</td>\n",
       "      <td>0</td>\n",
       "      <td>1</td>\n",
       "      <td>0</td>\n",
       "      <td>0</td>\n",
       "      <td>0</td>\n",
       "      <td>0</td>\n",
       "      <td>0</td>\n",
       "      <td>1</td>\n",
       "      <td>0</td>\n",
       "      <td>0</td>\n",
       "    </tr>\n",
       "    <tr>\n",
       "      <th>1</th>\n",
       "      <td>24</td>\n",
       "      <td>4</td>\n",
       "      <td>1</td>\n",
       "      <td>0</td>\n",
       "      <td>3</td>\n",
       "      <td>3</td>\n",
       "      <td>0</td>\n",
       "      <td>3</td>\n",
       "      <td>1</td>\n",
       "      <td>0</td>\n",
       "      <td>...</td>\n",
       "      <td>1</td>\n",
       "      <td>0</td>\n",
       "      <td>0</td>\n",
       "      <td>0</td>\n",
       "      <td>0</td>\n",
       "      <td>0</td>\n",
       "      <td>0</td>\n",
       "      <td>0</td>\n",
       "      <td>0</td>\n",
       "      <td>0</td>\n",
       "    </tr>\n",
       "    <tr>\n",
       "      <th>2</th>\n",
       "      <td>32</td>\n",
       "      <td>5</td>\n",
       "      <td>0</td>\n",
       "      <td>1</td>\n",
       "      <td>1</td>\n",
       "      <td>4</td>\n",
       "      <td>1</td>\n",
       "      <td>7</td>\n",
       "      <td>0</td>\n",
       "      <td>0</td>\n",
       "      <td>...</td>\n",
       "      <td>0</td>\n",
       "      <td>1</td>\n",
       "      <td>0</td>\n",
       "      <td>0</td>\n",
       "      <td>1</td>\n",
       "      <td>0</td>\n",
       "      <td>0</td>\n",
       "      <td>0</td>\n",
       "      <td>0</td>\n",
       "      <td>0</td>\n",
       "    </tr>\n",
       "    <tr>\n",
       "      <th>3</th>\n",
       "      <td>37</td>\n",
       "      <td>5</td>\n",
       "      <td>1</td>\n",
       "      <td>1</td>\n",
       "      <td>3</td>\n",
       "      <td>4</td>\n",
       "      <td>0</td>\n",
       "      <td>6</td>\n",
       "      <td>1</td>\n",
       "      <td>0</td>\n",
       "      <td>...</td>\n",
       "      <td>0</td>\n",
       "      <td>0</td>\n",
       "      <td>0</td>\n",
       "      <td>0</td>\n",
       "      <td>0</td>\n",
       "      <td>0</td>\n",
       "      <td>0</td>\n",
       "      <td>0</td>\n",
       "      <td>0</td>\n",
       "      <td>0</td>\n",
       "    </tr>\n",
       "    <tr>\n",
       "      <th>4</th>\n",
       "      <td>33</td>\n",
       "      <td>5</td>\n",
       "      <td>1</td>\n",
       "      <td>0</td>\n",
       "      <td>2</td>\n",
       "      <td>5</td>\n",
       "      <td>1</td>\n",
       "      <td>5</td>\n",
       "      <td>1</td>\n",
       "      <td>1</td>\n",
       "      <td>...</td>\n",
       "      <td>0</td>\n",
       "      <td>0</td>\n",
       "      <td>0</td>\n",
       "      <td>0</td>\n",
       "      <td>0</td>\n",
       "      <td>0</td>\n",
       "      <td>0</td>\n",
       "      <td>0</td>\n",
       "      <td>0</td>\n",
       "      <td>0</td>\n",
       "    </tr>\n",
       "  </tbody>\n",
       "</table>\n",
       "<p>5 rows × 26 columns</p>\n",
       "</div>"
      ],
      "text/plain": [
       "   Age  EducationLevel  Gender  HasFamilyHistory  Occupation  ATF  EAF  TKF  \\\n",
       "0   27               4       1                 0           3    4    2    6   \n",
       "1   24               4       1                 0           3    3    0    3   \n",
       "2   32               5       0                 1           1    4    1    7   \n",
       "3   37               5       1                 1           3    4    0    6   \n",
       "4   33               5       1                 0           2    5    1    5   \n",
       "\n",
       "   CMT  DEF  ...  DR  BR  CK  CP  NS  DZ  UR  UB  MD  TG  \n",
       "0    2    0  ...   0   1   0   0   0   0   0   1   0   0  \n",
       "1    1    0  ...   1   0   0   0   0   0   0   0   0   0  \n",
       "2    0    0  ...   0   1   0   0   1   0   0   0   0   0  \n",
       "3    1    0  ...   0   0   0   0   0   0   0   0   0   0  \n",
       "4    1    1  ...   0   0   0   0   0   0   0   0   0   0  \n",
       "\n",
       "[5 rows x 26 columns]"
      ]
     },
     "execution_count": 6,
     "metadata": {},
     "output_type": "execute_result"
    }
   ],
   "source": [
    "x_values = df1.drop([\"id\", \"hasSAD\", \"SPIN\", \"LSAS\"], axis=1)\n",
    "x_values.head()"
   ]
  },
  {
   "cell_type": "code",
   "execution_count": 48,
   "id": "4205f6c3",
   "metadata": {},
   "outputs": [
    {
     "data": {
      "text/plain": [
       "Index(['Age', 'EducationLevel', 'Gender', 'HasFamilyHistory', 'Occupation',\n",
       "       'ATF', 'EAF', 'TKF', 'CMT', 'DEF', 'SMF', 'ERF', 'DAF', 'HR', 'SW',\n",
       "       'TR', 'DR', 'BR', 'CK', 'CP', 'NS', 'DZ', 'UR', 'UB', 'MD', 'TG'],\n",
       "      dtype='object')"
      ]
     },
     "execution_count": 48,
     "metadata": {},
     "output_type": "execute_result"
    }
   ],
   "source": [
    "y_values = df1[\"hasSAD\"]\n",
    "x_values.columns"
   ]
  },
  {
   "cell_type": "code",
   "execution_count": 58,
   "id": "401ece74",
   "metadata": {},
   "outputs": [
    {
     "data": {
      "text/plain": [
       "Index(['Age', 'EducationLevel', 'ATF', 'EAF', 'TKF', 'CMT', 'DEF', 'SMF',\n",
       "       'ERF', 'DAF', 'Gender_1', 'HasFamilyHistory_1', 'Occupation_2',\n",
       "       'Occupation_3', 'Occupation_4', 'Occupation_5', 'HR_1', 'SW_1', 'TR_1',\n",
       "       'DR_1', 'BR_1', 'CK_1', 'CP_1', 'NS_1', 'DZ_1', 'UR_1', 'UB_1', 'MD_1',\n",
       "       'TG_1'],\n",
       "      dtype='object')"
      ]
     },
     "execution_count": 58,
     "metadata": {},
     "output_type": "execute_result"
    }
   ],
   "source": [
    "cols= [\"Gender\", \"HasFamilyHistory\", \"Occupation\", \"HR\", \"SW\", \"TR\", \"DR\", \"BR\", \"CK\", \"CP\", \"NS\", \"DZ\", \"UR\",\n",
    "      \"UB\", \"MD\", \"TG\"]\n",
    "new_x_values = pd.get_dummies(x_values, columns = cols, drop_first=True)\n",
    "\n",
    "new_x_values.columns"
   ]
  },
  {
   "cell_type": "code",
   "execution_count": 59,
   "id": "a785f210",
   "metadata": {},
   "outputs": [
    {
     "data": {
      "text/plain": [
       "29"
      ]
     },
     "execution_count": 59,
     "metadata": {},
     "output_type": "execute_result"
    }
   ],
   "source": [
    "len(new_x_values.columns)"
   ]
  },
  {
   "cell_type": "code",
   "execution_count": 102,
   "id": "4836d414",
   "metadata": {},
   "outputs": [],
   "source": [
    "from sklearn.model_selection import cross_val_score\n",
    "from sklearn.neighbors import KNeighborsClassifier\n",
    "\n",
    "model1 = KNeighborsClassifier(n_neighbors = 10)\n",
    "s1 = cross_val_score(model1,new_x_values.values, y_values, cv=10, scoring=\"accuracy\")\n"
   ]
  },
  {
   "cell_type": "code",
   "execution_count": 103,
   "id": "e1f95a10",
   "metadata": {},
   "outputs": [
    {
     "data": {
      "text/plain": [
       "array([0.27272727, 0.13636364, 0.59090909, 0.63636364, 0.85714286,\n",
       "       0.85714286, 0.9047619 , 0.9047619 , 0.9047619 , 0.95238095])"
      ]
     },
     "execution_count": 103,
     "metadata": {},
     "output_type": "execute_result"
    }
   ],
   "source": [
    "s1"
   ]
  },
  {
   "cell_type": "code",
   "execution_count": 104,
   "id": "def770e3",
   "metadata": {},
   "outputs": [
    {
     "data": {
      "text/plain": [
       "0.7017316017316018"
      ]
     },
     "execution_count": 104,
     "metadata": {},
     "output_type": "execute_result"
    }
   ],
   "source": [
    "s1.mean()"
   ]
  },
  {
   "cell_type": "code",
   "execution_count": 78,
   "id": "b4e1f54c",
   "metadata": {},
   "outputs": [
    {
     "name": "stdout",
     "output_type": "stream",
     "text": [
      "[0.6106060606060606, 0.6153679653679653, 0.7010822510822512, 0.6867965367965368, 0.719047619047619, 0.7051948051948053, 0.7287878787878788, 0.7058441558441558, 0.7199134199134198, 0.7017316017316018, 0.7246753246753247, 0.71991341991342, 0.7103896103896105, 0.7012987012987014, 0.733982683982684, 0.7246753246753247, 0.7294372294372294, 0.7067099567099567, 0.7389610389610389, 0.7158008658008658, 0.7251082251082251, 0.7203463203463204, 0.7251082251082251, 0.7341991341991342, 0.7296536796536797, 0.7296536796536797, 0.7296536796536797, 0.7114718614718615, 0.7203463203463204, 0.7248917748917749]\n"
     ]
    }
   ],
   "source": [
    "# search for k value\n",
    "arr = range(1, 31)\n",
    "\n",
    "s2 =[]\n",
    "for k in arr:\n",
    "    knn = KNeighborsClassifier(n_neighbors=k)\n",
    "    scores = cross_val_score(knn, new_x_values.values, y_values, cv=10, scoring='accuracy')\n",
    "    s2.append(scores.mean())\n",
    "\n",
    "    \n",
    "print(s2)"
   ]
  },
  {
   "cell_type": "code",
   "execution_count": 77,
   "id": "dc9ad25a",
   "metadata": {},
   "outputs": [
    {
     "data": {
      "text/plain": [
       "Text(0, 0.5, 'Cross-Validated Accuracy')"
      ]
     },
     "execution_count": 77,
     "metadata": {},
     "output_type": "execute_result"
    },
    {
     "data": {
      "image/png": "[encoded data removed]",
      "text/plain": [
       "<Figure size 432x288 with 1 Axes>"
      ]
     },
     "metadata": {
      "needs_background": "light"
     },
     "output_type": "display_data"
    }
   ],
   "source": [
    "plt.plot(arr, s2)\n",
    "plt.xlabel('Value of K for KNN')\n",
    "plt.ylabel('Cross-Validated Accuracy')"
   ]
  },
  {
   "cell_type": "code",
   "execution_count": 105,
   "id": "be8f6ebb",
   "metadata": {},
   "outputs": [
    {
     "data": {
      "text/plain": [
       "array([0.31818182, 0.13636364, 0.63636364, 0.72727273, 1.        ,\n",
       "       0.95238095, 1.        , 0.95238095, 1.        , 1.        ])"
      ]
     },
     "execution_count": 105,
     "metadata": {},
     "output_type": "execute_result"
    }
   ],
   "source": [
    "from sklearn.ensemble import RandomForestClassifier\n",
    "\n",
    "model2 = RandomForestClassifier()\n",
    "s3 = cross_val_score(model2,new_x_values.values, y_values, cv=10, scoring=\"accuracy\")\n",
    "s3"
   ]
  },
  {
   "cell_type": "code",
   "execution_count": 106,
   "id": "427c0b34",
   "metadata": {},
   "outputs": [
    {
     "data": {
      "text/plain": [
       "0.7722943722943724"
      ]
     },
     "execution_count": 106,
     "metadata": {},
     "output_type": "execute_result"
    }
   ],
   "source": [
    "s3.mean()"
   ]
  },
  {
   "cell_type": "code",
   "execution_count": 107,
   "id": "0d866f02",
   "metadata": {},
   "outputs": [
    {
     "data": {
      "text/plain": [
       "array([0.40909091, 0.22727273, 0.81818182, 0.68181818, 1.        ,\n",
       "       0.85714286, 0.95238095, 0.9047619 , 0.95238095, 0.95238095])"
      ]
     },
     "execution_count": 107,
     "metadata": {},
     "output_type": "execute_result"
    }
   ],
   "source": [
    "from sklearn.linear_model import LogisticRegression\n",
    "\n",
    "model3 = LogisticRegression()\n",
    "s4 = cross_val_score(model3,new_x_values.values, y_values, cv=10, scoring=\"accuracy\")\n",
    "s4"
   ]
  },
  {
   "cell_type": "code",
   "execution_count": 108,
   "id": "936053e8",
   "metadata": {},
   "outputs": [
    {
     "data": {
      "text/plain": [
       "0.7755411255411255"
      ]
     },
     "execution_count": 108,
     "metadata": {},
     "output_type": "execute_result"
    }
   ],
   "source": [
    "s4.mean()"
   ]
  },
  {
   "cell_type": "code",
   "execution_count": 117,
   "id": "ede4eaf0",
   "metadata": {},
   "outputs": [
    {
     "data": {
      "text/plain": [
       "array([0.18181818, 0.18181818, 0.59090909, 0.72727273, 1.        ,\n",
       "       0.85714286, 1.        , 1.        , 0.95238095, 1.        ])"
      ]
     },
     "execution_count": 117,
     "metadata": {},
     "output_type": "execute_result"
    }
   ],
   "source": [
    "from sklearn.svm import SVC\n",
    "\n",
    "model4 = SVC()\n",
    "s5 = cross_val_score(model4,new_x_values.values, y_values, cv=10, scoring=\"accuracy\")\n",
    "s5"
   ]
  },
  {
   "cell_type": "code",
   "execution_count": 116,
   "id": "fede82bb",
   "metadata": {},
   "outputs": [
    {
     "data": {
      "text/plain": [
       "0.7491341991341992"
      ]
     },
     "execution_count": 116,
     "metadata": {},
     "output_type": "execute_result"
    }
   ],
   "source": [
    "s5.mean()"
   ]
  },
  {
   "cell_type": "code",
   "execution_count": null,
   "id": "d2199c0e",
   "metadata": {},
   "outputs": [],
   "source": []
  },
  {
   "cell_type": "code",
   "execution_count": 118,
   "id": "736dba4e",
   "metadata": {},
   "outputs": [],
   "source": [
    "# Create the logistic model\n",
    "model = LogisticRegression()"
   ]
  },
  {
   "cell_type": "code",
   "execution_count": 130,
   "id": "5d57f54c",
   "metadata": {},
   "outputs": [
    {
     "data": {
      "text/plain": [
       "LogisticRegression()"
      ]
     },
     "execution_count": 130,
     "metadata": {},
     "output_type": "execute_result"
    }
   ],
   "source": [
    "#Train model\n",
    "x = 2068\n",
    "x_train,x_test,y_train,y_test = train_test_split(new_x_values, y_values, test_size = 0.2, random_state = x)\n",
    "model.fit(x_train, y_train)"
   ]
  },
  {
   "cell_type": "code",
   "execution_count": 33,
   "id": "61248017",
   "metadata": {},
   "outputs": [
    {
     "data": {
      "text/plain": [
       "2069"
      ]
     },
     "execution_count": 33,
     "metadata": {},
     "output_type": "execute_result"
    }
   ],
   "source": [
    "x"
   ]
  },
  {
   "cell_type": "code",
   "execution_count": 126,
   "id": "48ff98b3",
   "metadata": {},
   "outputs": [
    {
     "data": {
      "text/plain": [
       "Index(['Age', 'EducationLevel', 'ATF', 'EAF', 'TKF', 'CMT', 'DEF', 'SMF',\n",
       "       'ERF', 'DAF', 'Gender_1', 'HasFamilyHistory_1', 'Occupation_2',\n",
       "       'Occupation_3', 'Occupation_4', 'Occupation_5', 'HR_1', 'SW_1', 'TR_1',\n",
       "       'DR_1', 'BR_1', 'CK_1', 'CP_1', 'NS_1', 'DZ_1', 'UR_1', 'UB_1', 'MD_1',\n",
       "       'TG_1'],\n",
       "      dtype='object')"
      ]
     },
     "execution_count": 126,
     "metadata": {},
     "output_type": "execute_result"
    }
   ],
   "source": [
    "x_test.columns"
   ]
  },
  {
   "cell_type": "code",
   "execution_count": 132,
   "id": "f763b3e4",
   "metadata": {},
   "outputs": [
    {
     "data": {
      "text/plain": [
       "array([[30,  4,  4,  0,  3,  0,  0,  1,  0,  0,  0,  0,  0,  1,  0,  0,\n",
       "         1,  1,  1,  0,  0,  0,  0,  0,  0,  0,  0,  0,  0]], dtype=int64)"
      ]
     },
     "execution_count": 132,
     "metadata": {},
     "output_type": "execute_result"
    }
   ],
   "source": [
    "x_test[:1].values"
   ]
  },
  {
   "cell_type": "code",
   "execution_count": 127,
   "id": "e11fc1c5",
   "metadata": {},
   "outputs": [
    {
     "data": {
      "text/plain": [
       "array([0, 0, 0, 0, 1], dtype=int64)"
      ]
     },
     "execution_count": 127,
     "metadata": {},
     "output_type": "execute_result"
    }
   ],
   "source": [
    "model.predict(x_test[:5])"
   ]
  },
  {
   "cell_type": "code",
   "execution_count": 128,
   "id": "a2abd068",
   "metadata": {},
   "outputs": [
    {
     "data": {
      "text/plain": [
       "0.9069767441860465"
      ]
     },
     "execution_count": 128,
     "metadata": {},
     "output_type": "execute_result"
    }
   ],
   "source": [
    "model.score(x_test, y_test)"
   ]
  },
  {
   "cell_type": "code",
   "execution_count": 129,
   "id": "3e01da3f",
   "metadata": {},
   "outputs": [
    {
     "data": {
      "text/plain": [
       "['Anxiety_Classifier_model.pik']"
      ]
     },
     "execution_count": 129,
     "metadata": {},
     "output_type": "execute_result"
    }
   ],
   "source": [
    "# Save model\n",
    "import joblib\n",
    "\n",
    "modelName = 'Anxiety_Classifier_model.pik'\n",
    "joblib.dump(model, modelName)"
   ]
  },
  {
   "cell_type": "code",
   "execution_count": 125,
   "id": "2d5a9275",
   "metadata": {},
   "outputs": [
    {
     "data": {
      "text/plain": [
       "0.8837209302325582"
      ]
     },
     "execution_count": 125,
     "metadata": {},
     "output_type": "execute_result"
    }
   ],
   "source": [
    "model2 = RandomForestClassifier()\n",
    "model2.fit(x_train, y_train)\n",
    "condition = model2.score(x_test, y_test)\n",
    "condition"
   ]
  },
  {
   "cell_type": "code",
   "execution_count": 124,
   "id": "9cc38526",
   "metadata": {},
   "outputs": [
    {
     "data": {
      "text/plain": [
       "0.8604651162790697"
      ]
     },
     "execution_count": 124,
     "metadata": {},
     "output_type": "execute_result"
    }
   ],
   "source": [
    "model5 = SVC()\n",
    "model5.fit(x_train, y_train)\n",
    "condition = model5.score(x_test, y_test)\n",
    "condition"
   ]
  },
  {
   "cell_type": "code",
   "execution_count": 135,
   "id": "64bcce6f",
   "metadata": {},
   "outputs": [
    {
     "data": {
      "text/plain": [
       "0.813953488372093"
      ]
     },
     "execution_count": 135,
     "metadata": {},
     "output_type": "execute_result"
    }
   ],
   "source": [
    "modelx = KNeighborsClassifier(n_neighbors = 18)\n",
    "modelx.fit(x_train.values, y_train)\n",
    "condition = modelx.score(x_test.values, y_test)\n",
    "condition"
   ]
  },
  {
   "cell_type": "code",
   "execution_count": null,
   "id": "d1d72c43",
   "metadata": {},
   "outputs": [],
   "source": []
  }
 ],
 "metadata": {
  "kernelspec": {
   "display_name": "Python 3 (ipykernel)",
   "language": "python",
   "name": "python3"
  },
  "language_info": {
   "codemirror_mode": {
    "name": "ipython",
    "version": 3
   },
   "file_extension": ".py",
   "mimetype": "text/x-python",
   "name": "python",
   "nbconvert_exporter": "python",
   "pygments_lexer": "ipython3",
   "version": "3.9.5"
  }
 },
 "nbformat": 4,
 "nbformat_minor": 5
}
