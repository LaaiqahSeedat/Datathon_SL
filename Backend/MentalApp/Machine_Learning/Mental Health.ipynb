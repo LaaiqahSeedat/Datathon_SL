{
 "cells": [
  {
   "cell_type": "code",
   "execution_count": 14,
   "id": "3c929008",
   "metadata": {},
   "outputs": [],
   "source": [
    "import pandas as pd\n",
    "import numpy as np\n",
    "import matplotlib.pyplot as plt"
   ]
  },
  {
   "cell_type": "code",
   "execution_count": 15,
   "id": "8c39be6f",
   "metadata": {
    "scrolled": true
   },
   "outputs": [
    {
     "data": {
      "text/html": [
       "<div>\n",
       "<style scoped>\n",
       "    .dataframe tbody tr th:only-of-type {\n",
       "        vertical-align: middle;\n",
       "    }\n",
       "\n",
       "    .dataframe tbody tr th {\n",
       "        vertical-align: top;\n",
       "    }\n",
       "\n",
       "    .dataframe thead th {\n",
       "        text-align: right;\n",
       "    }\n",
       "</style>\n",
       "<table border=\"1\" class=\"dataframe\">\n",
       "  <thead>\n",
       "    <tr style=\"text-align: right;\">\n",
       "      <th></th>\n",
       "      <th>Entity</th>\n",
       "      <th>Code</th>\n",
       "      <th>Year</th>\n",
       "      <th>Prevalence - Anxiety disorders - Sex: Female - Age: All Ages (Number)</th>\n",
       "      <th>Prevalence - Anxiety disorders - Sex: Male - Age: All Ages (Number)</th>\n",
       "    </tr>\n",
       "  </thead>\n",
       "  <tbody>\n",
       "    <tr>\n",
       "      <th>0</th>\n",
       "      <td>Afghanistan</td>\n",
       "      <td>AFG</td>\n",
       "      <td>1990</td>\n",
       "      <td>252379.267264</td>\n",
       "      <td>164475.899445</td>\n",
       "    </tr>\n",
       "    <tr>\n",
       "      <th>1</th>\n",
       "      <td>Afghanistan</td>\n",
       "      <td>AFG</td>\n",
       "      <td>1991</td>\n",
       "      <td>262036.445129</td>\n",
       "      <td>170087.377635</td>\n",
       "    </tr>\n",
       "    <tr>\n",
       "      <th>2</th>\n",
       "      <td>Afghanistan</td>\n",
       "      <td>AFG</td>\n",
       "      <td>1992</td>\n",
       "      <td>310572.487808</td>\n",
       "      <td>199894.632147</td>\n",
       "    </tr>\n",
       "    <tr>\n",
       "      <th>3</th>\n",
       "      <td>Afghanistan</td>\n",
       "      <td>AFG</td>\n",
       "      <td>1993</td>\n",
       "      <td>361936.608315</td>\n",
       "      <td>231159.684414</td>\n",
       "    </tr>\n",
       "    <tr>\n",
       "      <th>4</th>\n",
       "      <td>Afghanistan</td>\n",
       "      <td>AFG</td>\n",
       "      <td>1994</td>\n",
       "      <td>376216.938911</td>\n",
       "      <td>238886.225430</td>\n",
       "    </tr>\n",
       "  </tbody>\n",
       "</table>\n",
       "</div>"
      ],
      "text/plain": [
       "        Entity Code  Year  \\\n",
       "0  Afghanistan  AFG  1990   \n",
       "1  Afghanistan  AFG  1991   \n",
       "2  Afghanistan  AFG  1992   \n",
       "3  Afghanistan  AFG  1993   \n",
       "4  Afghanistan  AFG  1994   \n",
       "\n",
       "   Prevalence - Anxiety disorders - Sex: Female - Age: All Ages (Number)  \\\n",
       "0                                      252379.267264                       \n",
       "1                                      262036.445129                       \n",
       "2                                      310572.487808                       \n",
       "3                                      361936.608315                       \n",
       "4                                      376216.938911                       \n",
       "\n",
       "   Prevalence - Anxiety disorders - Sex: Male - Age: All Ages (Number)  \n",
       "0                                      164475.899445                    \n",
       "1                                      170087.377635                    \n",
       "2                                      199894.632147                    \n",
       "3                                      231159.684414                    \n",
       "4                                      238886.225430                    "
      ]
     },
     "execution_count": 15,
     "metadata": {},
     "output_type": "execute_result"
    }
   ],
   "source": [
    "df1 = pd.read_csv(\"number-with-anxiety-disorders.csv\")   \n",
    "df1.head()"
   ]
  },
  {
   "cell_type": "code",
   "execution_count": 16,
   "id": "94e4968f",
   "metadata": {
    "scrolled": true
   },
   "outputs": [
    {
     "data": {
      "text/html": [
       "<div>\n",
       "<style scoped>\n",
       "    .dataframe tbody tr th:only-of-type {\n",
       "        vertical-align: middle;\n",
       "    }\n",
       "\n",
       "    .dataframe tbody tr th {\n",
       "        vertical-align: top;\n",
       "    }\n",
       "\n",
       "    .dataframe thead th {\n",
       "        text-align: right;\n",
       "    }\n",
       "</style>\n",
       "<table border=\"1\" class=\"dataframe\">\n",
       "  <thead>\n",
       "    <tr style=\"text-align: right;\">\n",
       "      <th></th>\n",
       "      <th>Entity</th>\n",
       "      <th>Code</th>\n",
       "      <th>Year</th>\n",
       "      <th>Prevalence - Anxiety disorders - Sex: Female - Age: All Ages (Number)</th>\n",
       "      <th>Prevalence - Anxiety disorders - Sex: Male - Age: All Ages (Number)</th>\n",
       "    </tr>\n",
       "  </thead>\n",
       "  <tbody>\n",
       "    <tr>\n",
       "      <th>5180</th>\n",
       "      <td>South Africa</td>\n",
       "      <td>ZAF</td>\n",
       "      <td>1990</td>\n",
       "      <td>841765.727058</td>\n",
       "      <td>516547.839828</td>\n",
       "    </tr>\n",
       "    <tr>\n",
       "      <th>5181</th>\n",
       "      <td>South Africa</td>\n",
       "      <td>ZAF</td>\n",
       "      <td>1991</td>\n",
       "      <td>863046.773083</td>\n",
       "      <td>529259.786988</td>\n",
       "    </tr>\n",
       "    <tr>\n",
       "      <th>5182</th>\n",
       "      <td>South Africa</td>\n",
       "      <td>ZAF</td>\n",
       "      <td>1992</td>\n",
       "      <td>885586.616959</td>\n",
       "      <td>542720.448606</td>\n",
       "    </tr>\n",
       "    <tr>\n",
       "      <th>5183</th>\n",
       "      <td>South Africa</td>\n",
       "      <td>ZAF</td>\n",
       "      <td>1993</td>\n",
       "      <td>908802.223797</td>\n",
       "      <td>556529.670945</td>\n",
       "    </tr>\n",
       "    <tr>\n",
       "      <th>5184</th>\n",
       "      <td>South Africa</td>\n",
       "      <td>ZAF</td>\n",
       "      <td>1994</td>\n",
       "      <td>932407.630837</td>\n",
       "      <td>570445.008718</td>\n",
       "    </tr>\n",
       "  </tbody>\n",
       "</table>\n",
       "</div>"
      ],
      "text/plain": [
       "            Entity Code  Year  \\\n",
       "5180  South Africa  ZAF  1990   \n",
       "5181  South Africa  ZAF  1991   \n",
       "5182  South Africa  ZAF  1992   \n",
       "5183  South Africa  ZAF  1993   \n",
       "5184  South Africa  ZAF  1994   \n",
       "\n",
       "      Prevalence - Anxiety disorders - Sex: Female - Age: All Ages (Number)  \\\n",
       "5180                                      841765.727058                       \n",
       "5181                                      863046.773083                       \n",
       "5182                                      885586.616959                       \n",
       "5183                                      908802.223797                       \n",
       "5184                                      932407.630837                       \n",
       "\n",
       "      Prevalence - Anxiety disorders - Sex: Male - Age: All Ages (Number)  \n",
       "5180                                      516547.839828                    \n",
       "5181                                      529259.786988                    \n",
       "5182                                      542720.448606                    \n",
       "5183                                      556529.670945                    \n",
       "5184                                      570445.008718                    "
      ]
     },
     "execution_count": 16,
     "metadata": {},
     "output_type": "execute_result"
    }
   ],
   "source": [
    "df2 = df1[df1[\"Entity\"] == \"South Africa\"] \n",
    "df2.head()"
   ]
  },
  {
   "cell_type": "code",
   "execution_count": 22,
   "id": "db556146",
   "metadata": {
    "scrolled": false
   },
   "outputs": [
    {
     "data": {
      "text/html": [
       "<div>\n",
       "<style scoped>\n",
       "    .dataframe tbody tr th:only-of-type {\n",
       "        vertical-align: middle;\n",
       "    }\n",
       "\n",
       "    .dataframe tbody tr th {\n",
       "        vertical-align: top;\n",
       "    }\n",
       "\n",
       "    .dataframe thead th {\n",
       "        text-align: right;\n",
       "    }\n",
       "</style>\n",
       "<table border=\"1\" class=\"dataframe\">\n",
       "  <thead>\n",
       "    <tr style=\"text-align: right;\">\n",
       "      <th></th>\n",
       "      <th>Entity</th>\n",
       "      <th>Code</th>\n",
       "      <th>Year</th>\n",
       "      <th>Prevalence - Anxiety disorders - Sex: Female - Age: All Ages (Number)</th>\n",
       "      <th>Prevalence - Anxiety disorders - Sex: Male - Age: All Ages (Number)</th>\n",
       "    </tr>\n",
       "  </thead>\n",
       "  <tbody>\n",
       "    <tr>\n",
       "      <th>5203</th>\n",
       "      <td>South Africa</td>\n",
       "      <td>ZAF</td>\n",
       "      <td>2013</td>\n",
       "      <td>1.251247e+06</td>\n",
       "      <td>789999.197777</td>\n",
       "    </tr>\n",
       "    <tr>\n",
       "      <th>5204</th>\n",
       "      <td>South Africa</td>\n",
       "      <td>ZAF</td>\n",
       "      <td>2014</td>\n",
       "      <td>1.264672e+06</td>\n",
       "      <td>800673.194731</td>\n",
       "    </tr>\n",
       "    <tr>\n",
       "      <th>5205</th>\n",
       "      <td>South Africa</td>\n",
       "      <td>ZAF</td>\n",
       "      <td>2015</td>\n",
       "      <td>1.279126e+06</td>\n",
       "      <td>811741.695375</td>\n",
       "    </tr>\n",
       "    <tr>\n",
       "      <th>5206</th>\n",
       "      <td>South Africa</td>\n",
       "      <td>ZAF</td>\n",
       "      <td>2016</td>\n",
       "      <td>1.294497e+06</td>\n",
       "      <td>823152.555878</td>\n",
       "    </tr>\n",
       "    <tr>\n",
       "      <th>5207</th>\n",
       "      <td>South Africa</td>\n",
       "      <td>ZAF</td>\n",
       "      <td>2017</td>\n",
       "      <td>1.311475e+06</td>\n",
       "      <td>835065.110890</td>\n",
       "    </tr>\n",
       "  </tbody>\n",
       "</table>\n",
       "</div>"
      ],
      "text/plain": [
       "            Entity Code  Year  \\\n",
       "5203  South Africa  ZAF  2013   \n",
       "5204  South Africa  ZAF  2014   \n",
       "5205  South Africa  ZAF  2015   \n",
       "5206  South Africa  ZAF  2016   \n",
       "5207  South Africa  ZAF  2017   \n",
       "\n",
       "      Prevalence - Anxiety disorders - Sex: Female - Age: All Ages (Number)  \\\n",
       "5203                                       1.251247e+06                       \n",
       "5204                                       1.264672e+06                       \n",
       "5205                                       1.279126e+06                       \n",
       "5206                                       1.294497e+06                       \n",
       "5207                                       1.311475e+06                       \n",
       "\n",
       "      Prevalence - Anxiety disorders - Sex: Male - Age: All Ages (Number)  \n",
       "5203                                      789999.197777                    \n",
       "5204                                      800673.194731                    \n",
       "5205                                      811741.695375                    \n",
       "5206                                      823152.555878                    \n",
       "5207                                      835065.110890                    "
      ]
     },
     "execution_count": 22,
     "metadata": {},
     "output_type": "execute_result"
    }
   ],
   "source": [
    "df2.tail()"
   ]
  },
  {
   "cell_type": "code",
   "execution_count": 12,
   "id": "7cfbfd60",
   "metadata": {},
   "outputs": [
    {
     "data": {
      "text/plain": [
       "(28, 5)"
      ]
     },
     "execution_count": 12,
     "metadata": {},
     "output_type": "execute_result"
    }
   ],
   "source": [
    "df2.shape"
   ]
  },
  {
   "cell_type": "code",
   "execution_count": 21,
   "id": "474338d8",
   "metadata": {},
   "outputs": [
    {
     "data": {
      "text/html": [
       "<div>\n",
       "<style scoped>\n",
       "    .dataframe tbody tr th:only-of-type {\n",
       "        vertical-align: middle;\n",
       "    }\n",
       "\n",
       "    .dataframe tbody tr th {\n",
       "        vertical-align: top;\n",
       "    }\n",
       "\n",
       "    .dataframe thead th {\n",
       "        text-align: right;\n",
       "    }\n",
       "</style>\n",
       "<table border=\"1\" class=\"dataframe\">\n",
       "  <thead>\n",
       "    <tr style=\"text-align: right;\">\n",
       "      <th></th>\n",
       "      <th>Year</th>\n",
       "      <th>Prevalence - Anxiety disorders - Sex: Female - Age: All Ages (Number)</th>\n",
       "      <th>Prevalence - Anxiety disorders - Sex: Male - Age: All Ages (Number)</th>\n",
       "    </tr>\n",
       "  </thead>\n",
       "  <tbody>\n",
       "    <tr>\n",
       "      <th>count</th>\n",
       "      <td>28.000000</td>\n",
       "      <td>2.800000e+01</td>\n",
       "      <td>28.000000</td>\n",
       "    </tr>\n",
       "    <tr>\n",
       "      <th>mean</th>\n",
       "      <td>2003.500000</td>\n",
       "      <td>1.123475e+06</td>\n",
       "      <td>689746.386213</td>\n",
       "    </tr>\n",
       "    <tr>\n",
       "      <th>std</th>\n",
       "      <td>8.225975</td>\n",
       "      <td>1.438563e+05</td>\n",
       "      <td>95970.907141</td>\n",
       "    </tr>\n",
       "    <tr>\n",
       "      <th>min</th>\n",
       "      <td>1990.000000</td>\n",
       "      <td>8.417657e+05</td>\n",
       "      <td>516547.839828</td>\n",
       "    </tr>\n",
       "    <tr>\n",
       "      <th>25%</th>\n",
       "      <td>1996.750000</td>\n",
       "      <td>1.009714e+06</td>\n",
       "      <td>612403.647405</td>\n",
       "    </tr>\n",
       "    <tr>\n",
       "      <th>50%</th>\n",
       "      <td>2003.500000</td>\n",
       "      <td>1.185663e+06</td>\n",
       "      <td>708198.254087</td>\n",
       "    </tr>\n",
       "    <tr>\n",
       "      <th>75%</th>\n",
       "      <td>2010.250000</td>\n",
       "      <td>1.220609e+06</td>\n",
       "      <td>762988.841494</td>\n",
       "    </tr>\n",
       "    <tr>\n",
       "      <th>max</th>\n",
       "      <td>2017.000000</td>\n",
       "      <td>1.311475e+06</td>\n",
       "      <td>835065.110890</td>\n",
       "    </tr>\n",
       "  </tbody>\n",
       "</table>\n",
       "</div>"
      ],
      "text/plain": [
       "              Year  \\\n",
       "count    28.000000   \n",
       "mean   2003.500000   \n",
       "std       8.225975   \n",
       "min    1990.000000   \n",
       "25%    1996.750000   \n",
       "50%    2003.500000   \n",
       "75%    2010.250000   \n",
       "max    2017.000000   \n",
       "\n",
       "       Prevalence - Anxiety disorders - Sex: Female - Age: All Ages (Number)  \\\n",
       "count                                       2.800000e+01                       \n",
       "mean                                        1.123475e+06                       \n",
       "std                                         1.438563e+05                       \n",
       "min                                         8.417657e+05                       \n",
       "25%                                         1.009714e+06                       \n",
       "50%                                         1.185663e+06                       \n",
       "75%                                         1.220609e+06                       \n",
       "max                                         1.311475e+06                       \n",
       "\n",
       "       Prevalence - Anxiety disorders - Sex: Male - Age: All Ages (Number)  \n",
       "count                                          28.000000                    \n",
       "mean                                       689746.386213                    \n",
       "std                                         95970.907141                    \n",
       "min                                        516547.839828                    \n",
       "25%                                        612403.647405                    \n",
       "50%                                        708198.254087                    \n",
       "75%                                        762988.841494                    \n",
       "max                                        835065.110890                    "
      ]
     },
     "execution_count": 21,
     "metadata": {},
     "output_type": "execute_result"
    }
   ],
   "source": [
    "df2.describe()"
   ]
  },
  {
   "cell_type": "code",
   "execution_count": 18,
   "id": "0c5f57a0",
   "metadata": {},
   "outputs": [
    {
     "data": {
      "text/plain": [
       "Index(['Entity', 'Code', 'Year',\n",
       "       'Prevalence - Anxiety disorders - Sex: Female - Age: All Ages (Number)',\n",
       "       'Prevalence - Anxiety disorders - Sex: Male - Age: All Ages (Number)'],\n",
       "      dtype='object')"
      ]
     },
     "execution_count": 18,
     "metadata": {},
     "output_type": "execute_result"
    }
   ],
   "source": [
    "df2.columns"
   ]
  },
  {
   "cell_type": "code",
   "execution_count": 19,
   "id": "acb72ea0",
   "metadata": {},
   "outputs": [
    {
     "data": {
      "text/plain": [
       "[<matplotlib.lines.Line2D at 0x147bf44ad90>]"
      ]
     },
     "execution_count": 19,
     "metadata": {},
     "output_type": "execute_result"
    },
    {
     "data": {
      "image/png": "[encoded data removed]",
      "text/plain": [
       "<Figure size 432x288 with 1 Axes>"
      ]
     },
     "metadata": {
      "needs_background": "light"
     },
     "output_type": "display_data"
    }
   ],
   "source": [
    "plt.plot(df2.Year,df2[\"Prevalence - Anxiety disorders - Sex: Female - Age: All Ages (Number)\"] )"
   ]
  },
  {
   "cell_type": "markdown",
   "id": "06d082e4",
   "metadata": {},
   "source": [
    "There is a linear trend, although one with moderate growth."
   ]
  },
  {
   "cell_type": "code",
   "execution_count": 20,
   "id": "5b04a0ff",
   "metadata": {},
   "outputs": [
    {
     "data": {
      "text/plain": [
       "[<matplotlib.lines.Line2D at 0x147c1548700>]"
      ]
     },
     "execution_count": 20,
     "metadata": {},
     "output_type": "execute_result"
    },
    {
     "data": {
      "image/png": "[encoded data removed]",
      "text/plain": [
       "<Figure size 432x288 with 1 Axes>"
      ]
     },
     "metadata": {
      "needs_background": "light"
     },
     "output_type": "display_data"
    }
   ],
   "source": [
    "plt.plot(df2.Year,df2[\"Prevalence - Anxiety disorders - Sex: Male - Age: All Ages (Number)\"] )"
   ]
  },
  {
   "cell_type": "code",
   "execution_count": null,
   "id": "3a9ff383",
   "metadata": {},
   "outputs": [],
   "source": []
  }
 ],
 "metadata": {
  "kernelspec": {
   "display_name": "Python 3 (ipykernel)",
   "language": "python",
   "name": "python3"
  },
  "language_info": {
   "codemirror_mode": {
    "name": "ipython",
    "version": 3
   },
   "file_extension": ".py",
   "mimetype": "text/x-python",
   "name": "python",
   "nbconvert_exporter": "python",
   "pygments_lexer": "ipython3",
   "version": "3.9.5"
  }
 },
 "nbformat": 4,
 "nbformat_minor": 5
}
